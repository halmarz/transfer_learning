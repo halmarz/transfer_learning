{
 "cells": [
  {
   "cell_type": "code",
   "execution_count": 2,
   "metadata": {},
   "outputs": [
    {
     "name": "stdout",
     "output_type": "stream",
     "text": [
      "weights pierwszej warstwy: 2\n",
      "trainable_weights pierwszej warstwy: 2\n",
      "non_trainable_weights pierwszej warstwy: 0\n",
      "weights drugiej warstwy: 2\n",
      "trainable_weights drugiej warstwy: 2\n",
      "non_trainable_weights drugiej warstwy: 0\n"
     ]
    }
   ],
   "source": [
    "import numpy as np\n",
    "import tensorflow as tf\n",
    "from tensorflow import keras\n",
    "from tensorflow.keras.preprocessing.text import Tokenizer\n",
    "from tensorflow.keras.layers import Embedding, LSTM, Dense, Bidirectional\n",
    "from tensorflow import keras\n",
    "from tensorflow.keras import layers\n",
    "\n",
    "import matplotlib.pyplot as plt\n",
    "\n",
    "layer1 = keras.layers.Dense(3, activation=\"relu\")\n",
    "layer2 = keras.layers.Dense(3, activation=\"sigmoid\")\n",
    "model = keras.Sequential([keras.Input(shape=(3,)), layer1, layer2])\n",
    "\n",
    "\n",
    "print(\"weights pierwszej warstwy:\", len(layer1.weights))\n",
    "print(\"trainable_weights pierwszej warstwy:\", len(layer1.trainable_weights))\n",
    "print(\"non_trainable_weights pierwszej warstwy:\", len(layer1.non_trainable_weights))\n",
    "print(\"weights drugiej warstwy:\", len(layer2.weights))\n",
    "print(\"trainable_weights drugiej warstwy:\", len(layer2.trainable_weights))\n",
    "print(\"non_trainable_weights drugiej warstwy:\", len(layer2.non_trainable_weights))\n",
    "\n"
   ]
  },
  {
   "cell_type": "code",
   "execution_count": 3,
   "metadata": {},
   "outputs": [],
   "source": [
    "layer1.trainable = False"
   ]
  },
  {
   "cell_type": "code",
   "execution_count": 4,
   "metadata": {},
   "outputs": [
    {
     "name": "stdout",
     "output_type": "stream",
     "text": [
      "weights pierwszej warstwy po zamrożeniu: 2\n",
      "trainable_weights pierwszej warstwy po zamrożeniu: 0\n",
      "non_trainable_weights pierwszej warstwy po zamrożeniu: 2\n",
      "weights drugiej warstwy: 2\n",
      "trainable_weights drugiej warstwy: 2\n",
      "non_trainable_weights drugiej warstwy: 0\n"
     ]
    }
   ],
   "source": [
    "print(\"weights pierwszej warstwy po zamrożeniu:\", len(layer1.weights))\n",
    "print(\"trainable_weights pierwszej warstwy po zamrożeniu:\", len(layer1.trainable_weights))\n",
    "print(\"non_trainable_weights pierwszej warstwy po zamrożeniu:\", len(layer1.non_trainable_weights))\n",
    "print(\"weights drugiej warstwy:\", len(layer2.weights))\n",
    "print(\"trainable_weights drugiej warstwy:\", len(layer2.trainable_weights))\n",
    "print(\"non_trainable_weights drugiej warstwy:\", len(layer2.non_trainable_weights))"
   ]
  },
  {
   "cell_type": "markdown",
   "metadata": {},
   "source": [
    "utworzenie kopi danych warsty pierwszej (jej wag)"
   ]
  },
  {
   "cell_type": "code",
   "execution_count": 8,
   "metadata": {},
   "outputs": [],
   "source": [
    "initial_layer1_weights_values = layer1.get_weights()\n",
    "\n"
   ]
  },
  {
   "cell_type": "code",
   "execution_count": 9,
   "metadata": {},
   "outputs": [
    {
     "name": "stdout",
     "output_type": "stream",
     "text": [
      "1/1 [==============================] - 1s 1s/step - loss: 0.0830\n"
     ]
    },
    {
     "data": {
      "text/plain": [
       "<keras.callbacks.History at 0x1d17c11afb0>"
      ]
     },
     "execution_count": 9,
     "metadata": {},
     "output_type": "execute_result"
    }
   ],
   "source": [
    "model.compile(optimizer=\"adam\", loss=\"mse\")\n",
    "model.fit(np.random.random((2, 3)), np.random.random((2, 3)))"
   ]
  },
  {
   "cell_type": "code",
   "execution_count": 10,
   "metadata": {},
   "outputs": [],
   "source": [
    "final_layer1_weights_values = layer1.get_weights()\n",
    "np.testing.assert_allclose(\n",
    "    initial_layer1_weights_values[0], final_layer1_weights_values[0]\n",
    ")\n",
    "np.testing.assert_allclose(\n",
    "    initial_layer1_weights_values[1], final_layer1_weights_values[1]\n",
    ")"
   ]
  },
  {
   "cell_type": "code",
   "execution_count": 15,
   "metadata": {},
   "outputs": [
    {
     "name": "stdout",
     "output_type": "stream",
     "text": [
      "weights pierwszej warstwy po zamrożeniu: 2\n",
      "trainable_weights pierwszej warstwy po zamrożeniu: 0\n",
      "non_trainable_weights pierwszej warstwy po zamrożeniu: 2\n",
      "weights drugiej warstwy: 2\n",
      "trainable_weights drugiej warstwy: 2\n",
      "non_trainable_weights drugiej warstwy: 0\n"
     ]
    }
   ],
   "source": [
    "print(\"weights pierwszej warstwy po zamrożeniu:\", len(layer1.weights))\n",
    "print(\"trainable_weights pierwszej warstwy po zamrożeniu:\", len(layer1.trainable_weights))\n",
    "print(\"non_trainable_weights pierwszej warstwy po zamrożeniu:\", len(layer1.non_trainable_weights))\n",
    "print(\"weights drugiej warstwy:\", len(layer2.weights))\n",
    "print(\"trainable_weights drugiej warstwy:\", len(layer2.trainable_weights))\n",
    "print(\"non_trainable_weights drugiej warstwy:\", len(layer2.non_trainable_weights))\n"
   ]
  },
  {
   "cell_type": "code",
   "execution_count": 22,
   "metadata": {},
   "outputs": [
    {
     "name": "stdout",
     "output_type": "stream",
     "text": [
      "weights całego modelu: 4\n",
      "trainable_weights całego modelu: 4\n",
      "non_trainable_weights całego modelu: 0\n",
      "weights całego modelu po zamrożeniu: 4\n",
      "trainable_weights całego modelu po zamrożeniu: 0\n",
      "non_trainable_weights całego modelu po zamrożeniu: 4\n"
     ]
    }
   ],
   "source": [
    "inner_model = keras.Sequential(\n",
    "    [\n",
    "        keras.Input(shape=(3,)),\n",
    "        keras.layers.Dense(3, activation=\"relu\"),\n",
    "        keras.layers.Dense(3, activation=\"relu\"),\n",
    "    ]\n",
    ")\n",
    "print(\"weights całego modelu:\", len(inner_model.weights))\n",
    "print(\"trainable_weights całego modelu:\", len(inner_model.trainable_weights))\n",
    "print(\"non_trainable_weights całego modelu:\", len(inner_model.non_trainable_weights))\n",
    "\n",
    "\n",
    "\n",
    "model = keras.Sequential(\n",
    "    [keras.Input(shape=(3,)), inner_model, keras.layers.Dense(3, activation=\"sigmoid\"),]\n",
    ")\n",
    "\n",
    "\n",
    "model.trainable = False  # Freeze the outer model\n",
    "\n",
    "print(\"weights całego modelu po zamrożeniu:\", len(inner_model.weights))\n",
    "print(\"trainable_weights całego modelu po zamrożeniu:\", len(inner_model.trainable_weights))\n",
    "print(\"non_trainable_weights całego modelu po zamrożeniu:\", len(inner_model.non_trainable_weights))\n",
    "\n",
    "\n",
    "assert inner_model.layers[0].trainable == False # `trainable` is propagated recursively"
   ]
  },
  {
   "cell_type": "code",
   "execution_count": 26,
   "metadata": {},
   "outputs": [
    {
     "name": "stdout",
     "output_type": "stream",
     "text": [
      "weights całego modelu: 4\n",
      "trainable_weights całego modelu: 4\n",
      "non_trainable_weights całego modelu: 0\n",
      "weights całego modelu po zamrożeniu: 4\n",
      "trainable_weights całego modelu po zamrożeniu: 4\n",
      "non_trainable_weights całego modelu po zamrożeniu: 0\n"
     ]
    }
   ],
   "source": [
    "inner_model2 = keras.Sequential(\n",
    "    [\n",
    "        keras.Input(shape=(3,)),\n",
    "        keras.layers.Dense(3, activation=\"relu\"),\n",
    "        keras.layers.Dense(3, activation=\"relu\"),\n",
    "    ]\n",
    ")\n",
    "\n",
    "print(\"weights całego modelu:\", len(inner_model2.weights))\n",
    "print(\"trainable_weights całego modelu:\", len(inner_model2.trainable_weights))\n",
    "print(\"non_trainable_weights całego modelu:\", len(inner_model2.non_trainable_weights))\n",
    "\n",
    "# nie da się zamrażać tak, wszyteki powarsty i cały model są zamarzniete:\n",
    "inner_model.layers[0].trainable = False # `trainable` is propagated recursively\n",
    "\n",
    "print(\"weights całego modelu po zamrożeniu:\", len(inner_model2.weights))\n",
    "print(\"trainable_weights całego modelu po zamrożeniu:\", len(inner_model2.trainable_weights))\n",
    "print(\"non_trainable_weights całego modelu po zamrożeniu:\", len(inner_model2.non_trainable_weights))"
   ]
  }
 ],
 "metadata": {
  "kernelspec": {
   "display_name": "Python 3",
   "language": "python",
   "name": "python3"
  },
  "language_info": {
   "codemirror_mode": {
    "name": "ipython",
    "version": 3
   },
   "file_extension": ".py",
   "mimetype": "text/x-python",
   "name": "python",
   "nbconvert_exporter": "python",
   "pygments_lexer": "ipython3",
   "version": "3.10.7"
  },
  "orig_nbformat": 4,
  "vscode": {
   "interpreter": {
    "hash": "26de051ba29f2982a8de78e945f0abaf191376122a1563185a90213a26c5da77"
   }
  }
 },
 "nbformat": 4,
 "nbformat_minor": 2
}
